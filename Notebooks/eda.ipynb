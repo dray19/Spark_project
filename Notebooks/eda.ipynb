{
 "cells": [
  {
   "cell_type": "markdown",
   "metadata": {},
   "source": [
    "# Exploratory Data Analysis"
   ]
  },
  {
   "cell_type": "markdown",
   "metadata": {},
   "source": [
    "For the exploratory data analysis we explored the count of the overall column and the count of the verified column,  categorize the reviews, and found the most frequent words in the dataset."
   ]
  },
  {
   "cell_type": "markdown",
   "metadata": {
    "colab_type": "text",
    "id": "IkJ7_ixLYTVV"
   },
   "source": [
    "### Load Libraries"
   ]
  },
  {
   "cell_type": "code",
   "execution_count": 1,
   "metadata": {
    "colab": {},
    "colab_type": "code",
    "id": "QDiny2b26gFI"
   },
   "outputs": [],
   "source": [
    "from pyspark.sql import SparkSession\n",
    "from pyspark.ml.feature import Tokenizer, StopWordsRemover\n",
    "from pyspark.sql.functions import *\n",
    "import matplotlib.pyplot as plt\n",
    "import seaborn as sns\n",
    "import pandas as pd"
   ]
  },
  {
   "cell_type": "markdown",
   "metadata": {
    "colab_type": "text",
    "id": "fSX-vyKPAC88"
   },
   "source": [
    "### Start Spark Session"
   ]
  },
  {
   "cell_type": "code",
   "execution_count": 2,
   "metadata": {
    "colab": {},
    "colab_type": "code",
    "id": "FZgMfO-9KwZo"
   },
   "outputs": [],
   "source": [
    "spark = SparkSession.builder.appName('eda').getOrCreate()"
   ]
  },
  {
   "cell_type": "markdown",
   "metadata": {
    "colab_type": "text",
    "id": "omNomjfIAPPp"
   },
   "source": [
    "### Load Data"
   ]
  },
  {
   "cell_type": "code",
   "execution_count": 3,
   "metadata": {
    "colab": {},
    "colab_type": "code",
    "id": "im4SuKZlLHe_"
   },
   "outputs": [],
   "source": [
    "df = spark.read.json('Movies_and_TV.json.gz')"
   ]
  },
  {
   "cell_type": "code",
   "execution_count": 4,
   "metadata": {
    "colab": {
     "base_uri": "https://localhost:8080/",
     "height": 204
    },
    "colab_type": "code",
    "id": "V-xDaM81hp1q",
    "outputId": "d60e0f85-e70d-4bb6-f1ff-493e18f067d4"
   },
   "outputs": [
    {
     "name": "stdout",
     "output_type": "stream",
     "text": [
      "+-------+--------------------+--------+\n",
      "|overall|          reviewText|verified|\n",
      "+-------+--------------------+--------+\n",
      "|    5.0|really happy they...|    true|\n",
      "|    5.0|Having lived in W...|    true|\n",
      "|    5.0|Excellent look in...|   false|\n",
      "|    5.0|More than anythin...|    true|\n",
      "|    4.0|This is a great m...|    true|\n",
      "+-------+--------------------+--------+\n",
      "only showing top 5 rows\n",
      "\n"
     ]
    }
   ],
   "source": [
    "### Get Columns needed\n",
    "df = df.select('overall', 'reviewText', 'verified')\n",
    "df.show(5)"
   ]
  },
  {
   "cell_type": "code",
   "execution_count": 5,
   "metadata": {
    "colab": {
     "base_uri": "https://localhost:8080/",
     "height": 68
    },
    "colab_type": "code",
    "id": "8gTVb68NES3B",
    "outputId": "80b107c7-6402-4f2a-956d-8d6c90dbe41f"
   },
   "outputs": [
    {
     "name": "stdout",
     "output_type": "stream",
     "text": [
      "Null reviewText: 8023\n",
      "Null overall: 0\n",
      "Null verified: 0\n"
     ]
    }
   ],
   "source": [
    "### Number of null values by column \n",
    "print('Null reviewText:', df.where((df[\"reviewText\"].isNull())).count())\n",
    "print('Null overall:', df.where((df[\"overall\"].isNull())).count())\n",
    "print('Null verified:',df.where((df[\"verified\"].isNull())).count())"
   ]
  },
  {
   "cell_type": "code",
   "execution_count": 6,
   "metadata": {
    "colab": {
     "base_uri": "https://localhost:8080/",
     "height": 34
    },
    "colab_type": "code",
    "id": "VPcRZlhCIVsF",
    "outputId": "477fef61-b780-40a6-bcf6-f842c416e619"
   },
   "outputs": [
    {
     "data": {
      "text/plain": [
       "8757545"
      ]
     },
     "execution_count": 6,
     "metadata": {},
     "output_type": "execute_result"
    }
   ],
   "source": [
    "### Drop na values\n",
    "df = df.na.drop()\n",
    "df.count()"
   ]
  },
  {
   "cell_type": "markdown",
   "metadata": {
    "colab_type": "text",
    "id": "1MaVKD1WZNMj"
   },
   "source": [
    "### Graphical Representation of overall column "
   ]
  },
  {
   "cell_type": "markdown",
   "metadata": {},
   "source": [
    "The graphical representation of the overall column shows that an overall of five is the largest value with four being the second biggest. The dataset looks to be imbalance as there are more positive ratings (4,5) compared to the negative ratings (1,2). "
   ]
  },
  {
   "cell_type": "code",
   "execution_count": 7,
   "metadata": {
    "colab": {
     "base_uri": "https://localhost:8080/",
     "height": 187
    },
    "colab_type": "code",
    "id": "L0W86xhvanM0",
    "outputId": "16ff333f-cb24-462e-fe13-a80877e7722b"
   },
   "outputs": [
    {
     "name": "stdout",
     "output_type": "stream",
     "text": [
      "+-------+-------+\n",
      "|overall|  count|\n",
      "+-------+-------+\n",
      "|    1.0| 632857|\n",
      "|    4.0|1496901|\n",
      "|    3.0| 735630|\n",
      "|    2.0| 406753|\n",
      "|    5.0|5485404|\n",
      "+-------+-------+\n",
      "\n"
     ]
    }
   ],
   "source": [
    "### Get overall Count\n",
    "o_count = df.groupBy(\"overall\").count()\n",
    "o_count.show()"
   ]
  },
  {
   "cell_type": "code",
   "execution_count": 8,
   "metadata": {
    "colab": {
     "base_uri": "https://localhost:8080/",
     "height": 204
    },
    "colab_type": "code",
    "id": "Z-VnAMMZZNxI",
    "outputId": "a9dc9731-488b-427b-f45c-aa621dfab997"
   },
   "outputs": [
    {
     "data": {
      "text/html": [
       "<div>\n",
       "<style scoped>\n",
       "    .dataframe tbody tr th:only-of-type {\n",
       "        vertical-align: middle;\n",
       "    }\n",
       "\n",
       "    .dataframe tbody tr th {\n",
       "        vertical-align: top;\n",
       "    }\n",
       "\n",
       "    .dataframe thead th {\n",
       "        text-align: right;\n",
       "    }\n",
       "</style>\n",
       "<table border=\"1\" class=\"dataframe\">\n",
       "  <thead>\n",
       "    <tr style=\"text-align: right;\">\n",
       "      <th></th>\n",
       "      <th>overall</th>\n",
       "      <th>count</th>\n",
       "    </tr>\n",
       "  </thead>\n",
       "  <tbody>\n",
       "    <tr>\n",
       "      <th>0</th>\n",
       "      <td>1.0</td>\n",
       "      <td>632857</td>\n",
       "    </tr>\n",
       "    <tr>\n",
       "      <th>1</th>\n",
       "      <td>4.0</td>\n",
       "      <td>1496901</td>\n",
       "    </tr>\n",
       "    <tr>\n",
       "      <th>2</th>\n",
       "      <td>3.0</td>\n",
       "      <td>735630</td>\n",
       "    </tr>\n",
       "    <tr>\n",
       "      <th>3</th>\n",
       "      <td>2.0</td>\n",
       "      <td>406753</td>\n",
       "    </tr>\n",
       "    <tr>\n",
       "      <th>4</th>\n",
       "      <td>5.0</td>\n",
       "      <td>5485404</td>\n",
       "    </tr>\n",
       "  </tbody>\n",
       "</table>\n",
       "</div>"
      ],
      "text/plain": [
       "   overall    count\n",
       "0      1.0   632857\n",
       "1      4.0  1496901\n",
       "2      3.0   735630\n",
       "3      2.0   406753\n",
       "4      5.0  5485404"
      ]
     },
     "execution_count": 8,
     "metadata": {},
     "output_type": "execute_result"
    }
   ],
   "source": [
    "### Convert to pandas \n",
    "plot_df = o_count.toPandas()\n",
    "plot_df.head()"
   ]
  },
  {
   "cell_type": "code",
   "execution_count": 9,
   "metadata": {
    "colab": {
     "base_uri": "https://localhost:8080/",
     "height": 542
    },
    "colab_type": "code",
    "id": "syruC2MfZqBJ",
    "outputId": "431446b5-4f79-476f-fbda-f1cb909a3d05"
   },
   "outputs": [
    {
     "data": {
      "text/plain": [
       "Text(0.5, 1.0, 'Overall Count')"
      ]
     },
     "execution_count": 9,
     "metadata": {},
     "output_type": "execute_result"
    },
    {
     "data": {
      "image/png": "[encoded data removed]",
      "text/plain": [
       "<Figure size 1440x576 with 1 Axes>"
      ]
     },
     "metadata": {},
     "output_type": "display_data"
    }
   ],
   "source": [
    "### plot \n",
    "sns.set()\n",
    "plt.figure(figsize=(20,8))\n",
    "sns.barplot(data = plot_df, x = 'overall', y = 'count')\n",
    "plt.ylabel('Count', fontsize = 15)\n",
    "plt.xlabel('Overall',fontsize = 15)\n",
    "plt.title('Overall Count',fontsize = 20)"
   ]
  },
  {
   "cell_type": "markdown",
   "metadata": {},
   "source": [
    "### Graphical Representation of verified column "
   ]
  },
  {
   "cell_type": "markdown",
   "metadata": {},
   "source": [
    "The graphical representation of the verified column shows that there is about a 3 to 1 difference between true verified to false verified. "
   ]
  },
  {
   "cell_type": "code",
   "execution_count": 10,
   "metadata": {},
   "outputs": [
    {
     "name": "stdout",
     "output_type": "stream",
     "text": [
      "+--------+-------+\n",
      "|verified|  count|\n",
      "+--------+-------+\n",
      "|    true|6723716|\n",
      "|   false|2033829|\n",
      "+--------+-------+\n",
      "\n"
     ]
    }
   ],
   "source": [
    "### Get verified count\n",
    "v_count = df.groupBy(\"verified\").count()\n",
    "v_count.show()"
   ]
  },
  {
   "cell_type": "code",
   "execution_count": 11,
   "metadata": {},
   "outputs": [
    {
     "data": {
      "text/html": [
       "<div>\n",
       "<style scoped>\n",
       "    .dataframe tbody tr th:only-of-type {\n",
       "        vertical-align: middle;\n",
       "    }\n",
       "\n",
       "    .dataframe tbody tr th {\n",
       "        vertical-align: top;\n",
       "    }\n",
       "\n",
       "    .dataframe thead th {\n",
       "        text-align: right;\n",
       "    }\n",
       "</style>\n",
       "<table border=\"1\" class=\"dataframe\">\n",
       "  <thead>\n",
       "    <tr style=\"text-align: right;\">\n",
       "      <th></th>\n",
       "      <th>verified</th>\n",
       "      <th>count</th>\n",
       "    </tr>\n",
       "  </thead>\n",
       "  <tbody>\n",
       "    <tr>\n",
       "      <th>0</th>\n",
       "      <td>True</td>\n",
       "      <td>6723716</td>\n",
       "    </tr>\n",
       "    <tr>\n",
       "      <th>1</th>\n",
       "      <td>False</td>\n",
       "      <td>2033829</td>\n",
       "    </tr>\n",
       "  </tbody>\n",
       "</table>\n",
       "</div>"
      ],
      "text/plain": [
       "   verified    count\n",
       "0      True  6723716\n",
       "1     False  2033829"
      ]
     },
     "execution_count": 11,
     "metadata": {},
     "output_type": "execute_result"
    }
   ],
   "source": [
    "### Convert to pandas \n",
    "plot_df2 = v_count.toPandas()\n",
    "plot_df2.head()"
   ]
  },
  {
   "cell_type": "code",
   "execution_count": 13,
   "metadata": {},
   "outputs": [
    {
     "data": {
      "text/plain": [
       "Text(0.5, 1.0, 'Verified Count')"
      ]
     },
     "execution_count": 13,
     "metadata": {},
     "output_type": "execute_result"
    },
    {
     "data": {
      "image/png": "[encoded data removed]",
      "text/plain": [
       "<Figure size 1440x576 with 1 Axes>"
      ]
     },
     "metadata": {},
     "output_type": "display_data"
    }
   ],
   "source": [
    "### plot \n",
    "sns.set()\n",
    "plt.figure(figsize=(20,8))\n",
    "sns.barplot(data = plot_df2, x = 'verified', y = 'count')\n",
    "plt.ylabel('Count', fontsize = 15)\n",
    "plt.xlabel('Verified',fontsize = 15)\n",
    "plt.title('Verified Count',fontsize = 20)"
   ]
  },
  {
   "cell_type": "markdown",
   "metadata": {
    "colab_type": "text",
    "id": "WcOSL77ExaiL"
   },
   "source": [
    "### Categorize the length of reviews\n"
   ]
  },
  {
   "cell_type": "markdown",
   "metadata": {},
   "source": [
    "When categorizing the reviews, we first cleaned the data to remove characters that don’t belong and remove extra spaces. The next step was to count the length of the review. Once done the mean was calculated for the length column. The mean was used to split the data into long and short reviews. Less than the mean was a short review  and greater than the mean was a long review. From the results we see that the dataset has more short reviews than long. "
   ]
  },
  {
   "cell_type": "code",
   "execution_count": 14,
   "metadata": {
    "colab": {},
    "colab_type": "code",
    "id": "RPJQ1W7FArOp"
   },
   "outputs": [],
   "source": [
    "### Function to clean text to get better count\n",
    "def clean_text(c):\n",
    "    c = lower(c)\n",
    "    c = regexp_replace(c, \"^rt \", \"\")\n",
    "    c = regexp_replace(c, \"[\\=.]\",\" \")\n",
    "    c = regexp_replace(c, \"[^a-zA-Z0-9\\\\s]\", \"\")\n",
    "    c = regexp_replace(c, \"  \", \" \")\n",
    "    c = regexp_replace(c, \"   \", \" \")\n",
    "    return(c)"
   ]
  },
  {
   "cell_type": "code",
   "execution_count": 15,
   "metadata": {
    "colab": {
     "base_uri": "https://localhost:8080/",
     "height": 204
    },
    "colab_type": "code",
    "id": "i3LijWW0AxPk",
    "outputId": "2ed35cd8-cace-4b76-fb87-49bcd7d698ac"
   },
   "outputs": [
    {
     "name": "stdout",
     "output_type": "stream",
     "text": [
      "+-------+--------------------+--------+--------------------+\n",
      "|overall|          reviewText|verified|          clean_text|\n",
      "+-------+--------------------+--------+--------------------+\n",
      "|    5.0|really happy they...|    true|really happy they...|\n",
      "|    5.0|Having lived in W...|    true|having lived in w...|\n",
      "|    5.0|Excellent look in...|   false|excellent look in...|\n",
      "|    5.0|More than anythin...|    true|more than anythin...|\n",
      "|    4.0|This is a great m...|    true|this is a great m...|\n",
      "+-------+--------------------+--------+--------------------+\n",
      "only showing top 5 rows\n",
      "\n"
     ]
    }
   ],
   "source": [
    "### Clean Review Text \n",
    "df = df.withColumn(\"clean_text\", clean_text(df[\"reviewText\"]))\n",
    "df.show(5)"
   ]
  },
  {
   "cell_type": "code",
   "execution_count": 16,
   "metadata": {
    "colab": {
     "base_uri": "https://localhost:8080/",
     "height": 459
    },
    "colab_type": "code",
    "id": "n2zSB1TTLi2J",
    "outputId": "8ef6d4e4-dc73-42a6-903b-975bcf89cb10"
   },
   "outputs": [
    {
     "name": "stdout",
     "output_type": "stream",
     "text": [
      "+-------+--------------------+--------+--------------------+------+\n",
      "|overall|          reviewText|verified|          clean_text|Length|\n",
      "+-------+--------------------+--------+--------------------+------+\n",
      "|    5.0|really happy they...|    true|really happy they...|    32|\n",
      "|    5.0|Having lived in W...|    true|having lived in w...|    42|\n",
      "|    5.0|Excellent look in...|   false|excellent look in...|    29|\n",
      "|    5.0|More than anythin...|    true|more than anythin...|    35|\n",
      "|    4.0|This is a great m...|    true|this is a great m...|    32|\n",
      "|    5.0|This movie was in...|    true|this movie was in...|    25|\n",
      "|    5.0|This is a fascina...|    true|this is a fascina...|    42|\n",
      "|    1.0|This DVD appears ...|    true|this dvd appears ...|    30|\n",
      "|    1.0|This movie is not...|    true|this movie is not...|    35|\n",
      "|    5.0|So sorry I didn't...|    true|so sorry i didnt ...|    64|\n",
      "|    5.0|Product received ...|    true|product received ...|    50|\n",
      "|    5.0|Believe me when I...|    true|believe me when i...|    41|\n",
      "|    5.0|This video arrive...|    true|this video arrive...|    35|\n",
      "|    5.0|The Reunion of th...|   false|the reunion of th...|    63|\n",
      "|    5.0|Wedding Music (3:...|   false|wedding music 322...|   112|\n",
      "|    5.0|This is truly a m...|   false|this is truly a m...|    57|\n",
      "|    4.0|It is an excellen...|   false|it is an excellen...|    88|\n",
      "|    5.0|I have a thing ag...|    true|i have a thing ag...|   152|\n",
      "|    5.0|This DVD is unbel...|   false|this dvd is unbel...|    94|\n",
      "|    5.0|Just brought this...|    true|just brought this...|   219|\n",
      "+-------+--------------------+--------+--------------------+------+\n",
      "only showing top 20 rows\n",
      "\n"
     ]
    }
   ],
   "source": [
    "### Create Length Column \n",
    "df = df.withColumn(\"Length\", size(split(df['clean_text'], ' ')))\n",
    "df.show()"
   ]
  },
  {
   "cell_type": "code",
   "execution_count": 17,
   "metadata": {
    "colab": {
     "base_uri": "https://localhost:8080/",
     "height": 119
    },
    "colab_type": "code",
    "id": "SPacySeFffMU",
    "outputId": "522e26dd-73e2-4362-a99a-826e97b82491"
   },
   "outputs": [
    {
     "name": "stdout",
     "output_type": "stream",
     "text": [
      "+-----------------+\n",
      "|      avg(Length)|\n",
      "+-----------------+\n",
      "|58.60791020771232|\n",
      "+-----------------+\n",
      "\n"
     ]
    }
   ],
   "source": [
    "### Mean of Length column\n",
    "df.select(mean('Length')).show()"
   ]
  },
  {
   "cell_type": "code",
   "execution_count": 18,
   "metadata": {
    "colab": {
     "base_uri": "https://localhost:8080/",
     "height": 459
    },
    "colab_type": "code",
    "id": "rp9ZxyPCk5Gy",
    "outputId": "3fdb99f8-648a-48e3-a504-eb9ee6e1356e"
   },
   "outputs": [
    {
     "name": "stdout",
     "output_type": "stream",
     "text": [
      "+-------+--------------------+--------+--------------------+------+-----+\n",
      "|overall|          reviewText|verified|          clean_text|Length| Type|\n",
      "+-------+--------------------+--------+--------------------+------+-----+\n",
      "|    5.0|really happy they...|    true|really happy they...|    32|Short|\n",
      "|    5.0|Having lived in W...|    true|having lived in w...|    42|Short|\n",
      "|    5.0|Excellent look in...|   false|excellent look in...|    29|Short|\n",
      "|    5.0|More than anythin...|    true|more than anythin...|    35|Short|\n",
      "|    4.0|This is a great m...|    true|this is a great m...|    32|Short|\n",
      "|    5.0|This movie was in...|    true|this movie was in...|    25|Short|\n",
      "|    5.0|This is a fascina...|    true|this is a fascina...|    42|Short|\n",
      "|    1.0|This DVD appears ...|    true|this dvd appears ...|    30|Short|\n",
      "|    1.0|This movie is not...|    true|this movie is not...|    35|Short|\n",
      "|    5.0|So sorry I didn't...|    true|so sorry i didnt ...|    64| Long|\n",
      "|    5.0|Product received ...|    true|product received ...|    50|Short|\n",
      "|    5.0|Believe me when I...|    true|believe me when i...|    41|Short|\n",
      "|    5.0|This video arrive...|    true|this video arrive...|    35|Short|\n",
      "|    5.0|The Reunion of th...|   false|the reunion of th...|    63| Long|\n",
      "|    5.0|Wedding Music (3:...|   false|wedding music 322...|   112| Long|\n",
      "|    5.0|This is truly a m...|   false|this is truly a m...|    57|Short|\n",
      "|    4.0|It is an excellen...|   false|it is an excellen...|    88| Long|\n",
      "|    5.0|I have a thing ag...|    true|i have a thing ag...|   152| Long|\n",
      "|    5.0|This DVD is unbel...|   false|this dvd is unbel...|    94| Long|\n",
      "|    5.0|Just brought this...|    true|just brought this...|   219| Long|\n",
      "+-------+--------------------+--------+--------------------+------+-----+\n",
      "only showing top 20 rows\n",
      "\n"
     ]
    }
   ],
   "source": [
    "### Categorize the length of reviews\n",
    "df = df.withColumn(\"Type\", when(df.Length > 58.60791020771232, \"Long\").otherwise(\"Short\"))\n",
    "df.show()"
   ]
  },
  {
   "cell_type": "code",
   "execution_count": 19,
   "metadata": {
    "colab": {
     "base_uri": "https://localhost:8080/",
     "height": 136
    },
    "colab_type": "code",
    "id": "L83r_TfRiJgw",
    "outputId": "ab40b9f7-cdca-46ea-d566-e926d4a1ed64"
   },
   "outputs": [
    {
     "name": "stdout",
     "output_type": "stream",
     "text": [
      "+-----+-------+\n",
      "| Type|  count|\n",
      "+-----+-------+\n",
      "| Long|2068960|\n",
      "|Short|6688585|\n",
      "+-----+-------+\n",
      "\n"
     ]
    }
   ],
   "source": [
    "### Count of Type\n",
    "df.groupBy('Type').count().show()"
   ]
  },
  {
   "cell_type": "markdown",
   "metadata": {
    "colab_type": "text",
    "id": "TjoqAoVIUIG7"
   },
   "source": [
    "### Get the count of most common words"
   ]
  },
  {
   "cell_type": "markdown",
   "metadata": {},
   "source": [
    "To get the count of the most common words in the dataset we first removed stop words and words that had a length less than 4. This was done to show words in the count that could be useful in our analysis. Once the data was clean we split the data so that each word in a review was its own row. The next step was to count how many times the word was used. We took the top 20 words to analyze. When viewing the top 20 words we saw that the top word was movie, which makes sense because the dataset is about movies and TV. "
   ]
  },
  {
   "cell_type": "code",
   "execution_count": 20,
   "metadata": {
    "colab": {
     "base_uri": "https://localhost:8080/",
     "height": 459
    },
    "colab_type": "code",
    "id": "Rrsj1y-xUL3J",
    "outputId": "e0a9b913-d1f8-411d-e5a6-846849490539"
   },
   "outputs": [
    {
     "name": "stdout",
     "output_type": "stream",
     "text": [
      "+-------+--------------------+--------+--------------------+------+-----+\n",
      "|overall|          reviewText|verified|          clean_text|Length| Type|\n",
      "+-------+--------------------+--------+--------------------+------+-----+\n",
      "|    5.0|really happy they...|    true|really happy they...|    32|Short|\n",
      "|    5.0|Having lived in W...|    true|having lived in w...|    42|Short|\n",
      "|    5.0|Excellent look in...|   false|excellent look in...|    29|Short|\n",
      "|    5.0|More than anythin...|    true|more than anythin...|    35|Short|\n",
      "|    4.0|This is a great m...|    true|this is a great m...|    32|Short|\n",
      "|    5.0|This movie was in...|    true|this movie was in...|    25|Short|\n",
      "|    5.0|This is a fascina...|    true|this is a fascina...|    42|Short|\n",
      "|    1.0|This DVD appears ...|    true|this dvd appears ...|    30|Short|\n",
      "|    1.0|This movie is not...|    true|this movie is not...|    35|Short|\n",
      "|    5.0|So sorry I didn't...|    true|so sorry i didnt ...|    64| Long|\n",
      "|    5.0|Product received ...|    true|product received ...|    50|Short|\n",
      "|    5.0|Believe me when I...|    true|believe me when i...|    41|Short|\n",
      "|    5.0|This video arrive...|    true|this video arrive...|    35|Short|\n",
      "|    5.0|The Reunion of th...|   false|the reunion of th...|    63| Long|\n",
      "|    5.0|Wedding Music (3:...|   false|wedding music  ge...|   112| Long|\n",
      "|    5.0|This is truly a m...|   false|this is truly a m...|    57|Short|\n",
      "|    4.0|It is an excellen...|   false|it is an excellen...|    88| Long|\n",
      "|    5.0|I have a thing ag...|    true|i have a thing ag...|   152| Long|\n",
      "|    5.0|This DVD is unbel...|   false|this dvd is unbel...|    94| Long|\n",
      "|    5.0|Just brought this...|    true|just brought this...|   219| Long|\n",
      "+-------+--------------------+--------+--------------------+------+-----+\n",
      "only showing top 20 rows\n",
      "\n"
     ]
    }
   ],
   "source": [
    "#### remove numbers from text\n",
    "df = df.withColumn(\"clean_text\",regexp_replace(col('clean_text'), '\\d+', ''))\n",
    "df.show()"
   ]
  },
  {
   "cell_type": "code",
   "execution_count": 21,
   "metadata": {
    "colab": {
     "base_uri": "https://localhost:8080/",
     "height": 204
    },
    "colab_type": "code",
    "id": "REPEo9wwp1XO",
    "outputId": "a12b88fe-2960-4f1d-8952-e05f0ab9e6df"
   },
   "outputs": [
    {
     "name": "stdout",
     "output_type": "stream",
     "text": [
      "+--------------------+\n",
      "|         words_token|\n",
      "+--------------------+\n",
      "|[really, happy, t...|\n",
      "|[having, lived, i...|\n",
      "|[excellent, look,...|\n",
      "|[more, than, anyt...|\n",
      "|[this, is, a, gre...|\n",
      "+--------------------+\n",
      "only showing top 5 rows\n",
      "\n"
     ]
    }
   ],
   "source": [
    "##### tokenize text \n",
    "tokenizer = Tokenizer(inputCol='clean_text', outputCol='words_token')\n",
    "df_words = tokenizer.transform(df).select('words_token')\n",
    "df_words.show(5)"
   ]
  },
  {
   "cell_type": "code",
   "execution_count": 22,
   "metadata": {
    "colab": {
     "base_uri": "https://localhost:8080/",
     "height": 204
    },
    "colab_type": "code",
    "id": "RXub0GUpqPco",
    "outputId": "7bba6e8e-1477-495e-d78d-cffac900c8df"
   },
   "outputs": [
    {
     "name": "stdout",
     "output_type": "stream",
     "text": [
      "+--------------------+\n",
      "|         words_clean|\n",
      "+--------------------+\n",
      "|[really, happy, g...|\n",
      "|[lived, west, new...|\n",
      "|[excellent, look,...|\n",
      "|[anything, ive, c...|\n",
      "|[great, movie, mi...|\n",
      "+--------------------+\n",
      "only showing top 5 rows\n",
      "\n"
     ]
    }
   ],
   "source": [
    "##### Remove stop words\n",
    "remover = StopWordsRemover(inputCol='words_token', outputCol='words_clean')\n",
    "df_words = remover.transform(df_words).select('words_clean')\n",
    "df_words.show(5)"
   ]
  },
  {
   "cell_type": "code",
   "execution_count": 23,
   "metadata": {
    "colab": {
     "base_uri": "https://localhost:8080/",
     "height": 289
    },
    "colab_type": "code",
    "id": "LJPsnxG4qhLl",
    "outputId": "ec740a2e-c76c-436a-fc9d-a4a41ea743f3"
   },
   "outputs": [
    {
     "name": "stdout",
     "output_type": "stream",
     "text": [
      "+--------------------+\n",
      "|               words|\n",
      "+--------------------+\n",
      "|really happy evan...|\n",
      "|lived west guinea...|\n",
      "|excellent look co...|\n",
      "|anything challeng...|\n",
      "|great movie missi...|\n",
      "|movie english gre...|\n",
      "|fascinating true ...|\n",
      "|appears german en...|\n",
      "|movie english alt...|\n",
      "|sorry didnt purch...|\n",
      "+--------------------+\n",
      "only showing top 10 rows\n",
      "\n"
     ]
    }
   ],
   "source": [
    "### remove short words \n",
    "filter_length_udf = udf(lambda row: \" \".join([x for x in row if len(x) >= 4]))\n",
    "df_words = df_words.withColumn('words', filter_length_udf(col('words_clean'))).select('words')\n",
    "df_words.show(10)"
   ]
  },
  {
   "cell_type": "code",
   "execution_count": 24,
   "metadata": {
    "colab": {
     "base_uri": "https://localhost:8080/",
     "height": 459
    },
    "colab_type": "code",
    "id": "JDoTmOPMWORC",
    "outputId": "4b4b01bb-53b5-49e2-e41d-accd838b6f9a"
   },
   "outputs": [
    {
     "name": "stdout",
     "output_type": "stream",
     "text": [
      "+-----------+\n",
      "|       word|\n",
      "+-----------+\n",
      "|     really|\n",
      "|      happy|\n",
      "|evangelised|\n",
      "|    spoiler|\n",
      "|      alert|\n",
      "|      happy|\n",
      "|     ending|\n",
      "|      liked|\n",
      "|      since|\n",
      "|    started|\n",
      "|  worrisome|\n",
      "|       yeah|\n",
      "|      great|\n",
      "|    stories|\n",
      "| missionary|\n",
      "|     movies|\n",
      "|     really|\n",
      "|      short|\n",
      "|       half|\n",
      "|       hour|\n",
      "+-----------+\n",
      "only showing top 20 rows\n",
      "\n"
     ]
    }
   ],
   "source": [
    "#### dataframe of all words \n",
    "df2 = (df_words.select(explode(split(df_words.words, ' ')).alias('word')))\n",
    "df2 = df2.where(df2.word != '')\n",
    "df2.show(20)"
   ]
  },
  {
   "cell_type": "code",
   "execution_count": 25,
   "metadata": {
    "colab": {
     "base_uri": "https://localhost:8080/",
     "height": 459
    },
    "colab_type": "code",
    "id": "YoJD8LzdXCFU",
    "outputId": "2bcd4c83-47b3-4dc5-d5ad-4c1c2164b570"
   },
   "outputs": [
    {
     "name": "stdout",
     "output_type": "stream",
     "text": [
      "+------+-------+\n",
      "|  word|  count|\n",
      "+------+-------+\n",
      "| movie|4677481|\n",
      "| great|2434048|\n",
      "|  good|2135220|\n",
      "|  film|1972439|\n",
      "|  like|1715628|\n",
      "|  love|1471621|\n",
      "| story|1259479|\n",
      "|  time|1206601|\n",
      "|really|1124064|\n",
      "| watch|1073072|\n",
      "|  well|1057550|\n",
      "|  show| 975261|\n",
      "|series| 961480|\n",
      "|  much| 905314|\n",
      "|movies| 905118|\n",
      "| first| 886379|\n",
      "|  even| 818667|\n",
      "|  best| 783046|\n",
      "|  also| 747537|\n",
      "|  dont| 716623|\n",
      "+------+-------+\n",
      "only showing top 20 rows\n",
      "\n"
     ]
    }
   ],
   "source": [
    "#### Top 20 words\n",
    "df2.groupby('word').count().orderBy('count',ascending = False).show(20)"
   ]
  }
 ],
 "metadata": {
  "colab": {
   "collapsed_sections": [],
   "name": "eda.ipynb",
   "provenance": []
  },
  "kernelspec": {
   "display_name": "Python 3",
   "language": "python",
   "name": "python3"
  },
  "language_info": {
   "codemirror_mode": {
    "name": "ipython",
    "version": 3
   },
   "file_extension": ".py",
   "mimetype": "text/x-python",
   "name": "python",
   "nbconvert_exporter": "python",
   "pygments_lexer": "ipython3",
   "version": "3.7.3"
  }
 },
 "nbformat": 4,
 "nbformat_minor": 1
}
