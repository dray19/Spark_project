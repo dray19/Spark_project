{
 "cells": [
  {
   "cell_type": "markdown",
   "metadata": {},
   "source": [
    "# Machine Learning "
   ]
  },
  {
   "cell_type": "markdown",
   "metadata": {},
   "source": [
    "In the machine learning step, we created a pipeline that used a count vectorizer and the function IDF to transform the data. Then we used a basic logistic regression model to predict if the review was verified or not.  True is equal to one and false is equal to zero. Threshold was change to better fit the imbalanced dataset. Lastly the training data was tested on the model to see how the model was performing. "
   ]
  },
  {
   "cell_type": "markdown",
   "metadata": {},
   "source": [
    "### Import pyspark using Docker"
   ]
  },
  {
   "cell_type": "code",
   "execution_count": 1,
   "metadata": {},
   "outputs": [],
   "source": [
    "import pyspark \n",
    "from pyspark.sql import SparkSession\n",
    "from pyspark.sql.functions import *\n",
    "import matplotlib.pyplot as plt\n",
    "import numpy as np"
   ]
  },
  {
   "cell_type": "markdown",
   "metadata": {},
   "source": [
    "### Start Spark Session"
   ]
  },
  {
   "cell_type": "code",
   "execution_count": 2,
   "metadata": {},
   "outputs": [],
   "source": [
    "spark = SparkSession.builder.appName('ML').getOrCreate()"
   ]
  },
  {
   "cell_type": "markdown",
   "metadata": {},
   "source": [
    "### Load Data"
   ]
  },
  {
   "cell_type": "code",
   "execution_count": 3,
   "metadata": {},
   "outputs": [],
   "source": [
    "df = spark.read.csv('clean_train/part-00000-69ff3170-c993-4193-8845-da2e30fd4d60-c000.csv', header = True).select('Text', 'verified')"
   ]
  },
  {
   "cell_type": "code",
   "execution_count": 4,
   "metadata": {},
   "outputs": [
    {
     "name": "stdout",
     "output_type": "stream",
     "text": [
      "+--------------------+--------+\n",
      "|                Text|verified|\n",
      "+--------------------+--------+\n",
      "|really happy evan...|    true|\n",
      "|lived west guinea...|    true|\n",
      "|excellent look co...|   false|\n",
      "|anything challeng...|    true|\n",
      "|great movie missi...|    true|\n",
      "|movie english gre...|    true|\n",
      "|fascinating true ...|    true|\n",
      "|appears german en...|    true|\n",
      "|movie english alt...|    true|\n",
      "|sorry didnt purch...|    true|\n",
      "+--------------------+--------+\n",
      "only showing top 10 rows\n",
      "\n"
     ]
    }
   ],
   "source": [
    "### View data\n",
    "df.show(10)"
   ]
  },
  {
   "cell_type": "markdown",
   "metadata": {},
   "source": [
    "After cleaning there was some reviews that didn’t have any words in them. These reviews became null values and they were removes from the training set. "
   ]
  },
  {
   "cell_type": "code",
   "execution_count": 5,
   "metadata": {},
   "outputs": [
    {
     "name": "stdout",
     "output_type": "stream",
     "text": [
      "Null Text: 63987\n",
      "Null verified: 0\n"
     ]
    }
   ],
   "source": [
    "#### look for nan values \n",
    "print('Null Text:', df.where((df[\"Text\"].isNull())).count())\n",
    "print('Null verified:', df.where((df[\"verified\"].isNull())).count())"
   ]
  },
  {
   "cell_type": "code",
   "execution_count": 6,
   "metadata": {},
   "outputs": [
    {
     "data": {
      "text/plain": [
       "6942050"
      ]
     },
     "execution_count": 6,
     "metadata": {},
     "output_type": "execute_result"
    }
   ],
   "source": [
    "### drop na's\n",
    "df = df.na.drop()\n",
    "df.count()"
   ]
  },
  {
   "cell_type": "markdown",
   "metadata": {},
   "source": [
    "We turned they label column that was true/false to a numeric value where one is equal to true and zero is equal to false. "
   ]
  },
  {
   "cell_type": "code",
   "execution_count": 7,
   "metadata": {},
   "outputs": [
    {
     "name": "stdout",
     "output_type": "stream",
     "text": [
      "+--------------------+-----+\n",
      "|                Text|label|\n",
      "+--------------------+-----+\n",
      "|really happy evan...|  1.0|\n",
      "|lived west guinea...|  1.0|\n",
      "|excellent look co...|  0.0|\n",
      "|anything challeng...|  1.0|\n",
      "|great movie missi...|  1.0|\n",
      "|movie english gre...|  1.0|\n",
      "|fascinating true ...|  1.0|\n",
      "|appears german en...|  1.0|\n",
      "|movie english alt...|  1.0|\n",
      "|sorry didnt purch...|  1.0|\n",
      "+--------------------+-----+\n",
      "only showing top 10 rows\n",
      "\n"
     ]
    }
   ],
   "source": [
    "### create a Label column\n",
    "df = df.withColumn('label', when(df.verified == 'true', 1.0).otherwise(0.0)).select('Text', 'label')\n",
    "df.show(10)"
   ]
  },
  {
   "cell_type": "markdown",
   "metadata": {},
   "source": [
    "### Create & Train Model"
   ]
  },
  {
   "cell_type": "markdown",
   "metadata": {},
   "source": [
    "In this step of the machine learning process a pipeline was created to transform the data into the format needed to input values in to the logistic regression model. We used TD-IDF to turn the words in to a numeric format. Once data was in the right format a basic logistic regression model was trained on the training data. After training was done the ROC curve was examined and the f-measure vs. different thresholds was also examined. From this information the threshold for predicting a one was increased from .50 to .61."
   ]
  },
  {
   "cell_type": "code",
   "execution_count": 8,
   "metadata": {},
   "outputs": [],
   "source": [
    "from pyspark.ml.feature import Tokenizer, CountVectorizer,StringIndexer, RegexTokenizer, IDF, StandardScaler\n",
    "from pyspark.ml.classification import LogisticRegression,LogisticRegressionModel\n",
    "from pyspark.ml import Pipeline"
   ]
  },
  {
   "cell_type": "code",
   "execution_count": 9,
   "metadata": {},
   "outputs": [],
   "source": [
    "### Create pipeline \n",
    "tokenizer = Tokenizer(inputCol=\"Text\", outputCol=\"token_text\")\n",
    "countVectors = CountVectorizer(inputCol=\"token_text\", outputCol=\"rawFeatures\")\n",
    "idf = IDF(inputCol=\"rawFeatures\", outputCol=\"idf\")\n",
    "ss = StandardScaler(inputCol='idf', outputCol='features')\n",
    "pipeline = Pipeline(stages=[tokenizer, countVectors,idf, ss])"
   ]
  },
  {
   "cell_type": "code",
   "execution_count": 10,
   "metadata": {},
   "outputs": [],
   "source": [
    "### fit pipeline to data\n",
    "pipelineFit = pipeline.fit(df)"
   ]
  },
  {
   "cell_type": "code",
   "execution_count": 11,
   "metadata": {},
   "outputs": [
    {
     "name": "stdout",
     "output_type": "stream",
     "text": [
      "+--------------------+-----+--------------------+--------------------+--------------------+--------------------+\n",
      "|                Text|label|          token_text|         rawFeatures|                 idf|            features|\n",
      "+--------------------+-----+--------------------+--------------------+--------------------+--------------------+\n",
      "|really happy evan...|  1.0|[really, happy, e...|(262144,[0,2,7,9,...|(262144,[0,2,7,9,...|(262144,[0,2,7,9,...|\n",
      "|lived west guinea...|  1.0|[lived, west, gui...|(262144,[6,11,55,...|(262144,[6,11,55,...|(262144,[6,11,55,...|\n",
      "|excellent look co...|  0.0|[excellent, look,...|(262144,[0,51,52,...|(262144,[0,51,52,...|(262144,[0,51,52,...|\n",
      "|anything challeng...|  1.0|[anything, challe...|(262144,[54,95,11...|(262144,[54,95,11...|(262144,[54,95,11...|\n",
      "|great movie missi...|  1.0|[great, movie, mi...|(262144,[0,2,34,7...|(262144,[0,2,34,7...|(262144,[0,2,34,7...|\n",
      "|movie english gre...|  1.0|[movie, english, ...|(262144,[0,2,58,2...|(262144,[0,2,58,2...|(262144,[0,2,58,2...|\n",
      "|fascinating true ...|  1.0|[fascinating, tru...|(262144,[7,10,11,...|(262144,[7,10,11,...|(262144,[7,10,11,...|\n",
      "|appears german en...|  1.0|[appears, german,...|(262144,[41,42,10...|(262144,[41,42,10...|(262144,[41,42,10...|\n",
      "|movie english alt...|  1.0|[movie, english, ...|(262144,[0,4,58,1...|(262144,[0,4,58,1...|(262144,[0,4,58,1...|\n",
      "|sorry didnt purch...|  1.0|[sorry, didnt, pu...|(262144,[3,15,19,...|(262144,[3,15,19,...|(262144,[3,15,19,...|\n",
      "+--------------------+-----+--------------------+--------------------+--------------------+--------------------+\n",
      "only showing top 10 rows\n",
      "\n"
     ]
    }
   ],
   "source": [
    "#### create dataset for training of model \n",
    "train = pipelineFit.transform(df)\n",
    "train.show(10)"
   ]
  },
  {
   "cell_type": "code",
   "execution_count": 12,
   "metadata": {},
   "outputs": [],
   "source": [
    "### Bulding model \n",
    "lr = LogisticRegression(maxIter=20, regParam=0.3, elasticNetParam=0, family = \"binomial\")\n",
    "lrModel = lr.fit(train)"
   ]
  },
  {
   "cell_type": "code",
   "execution_count": 13,
   "metadata": {},
   "outputs": [],
   "source": [
    "### Summary of model training\n",
    "train_Summary = lrModel.summary"
   ]
  },
  {
   "cell_type": "code",
   "execution_count": 14,
   "metadata": {},
   "outputs": [
    {
     "name": "stdout",
     "output_type": "stream",
     "text": [
      "AUC: 0.799974105910763\n"
     ]
    }
   ],
   "source": [
    "### ROC\n",
    "print('AUC:', str(train_Summary.areaUnderROC))"
   ]
  },
  {
   "cell_type": "code",
   "execution_count": 15,
   "metadata": {},
   "outputs": [
    {
     "data": {
      "image/png": "[encoded data removed]",
      "text/plain": [
       "<Figure size 432x288 with 1 Axes>"
      ]
     },
     "metadata": {
      "needs_background": "light"
     },
     "output_type": "display_data"
    }
   ],
   "source": [
    "roc = train_Summary.roc.toPandas()\n",
    "plt.plot(roc['FPR'],roc['TPR'])\n",
    "plt.ylabel('False Positive Rate')\n",
    "plt.xlabel('True Positive Rate')\n",
    "plt.title('ROC Curve')\n",
    "plt.show()"
   ]
  },
  {
   "cell_type": "code",
   "execution_count": 16,
   "metadata": {},
   "outputs": [
    {
     "data": {
      "image/png": "[encoded data removed]",
      "text/plain": [
       "<Figure size 432x288 with 1 Axes>"
      ]
     },
     "metadata": {
      "needs_background": "light"
     },
     "output_type": "display_data"
    }
   ],
   "source": [
    "f = train_Summary.fMeasureByThreshold.toPandas()\n",
    "plt.plot(f['threshold'],f['F-Measure'])\n",
    "plt.ylabel('F-Measure')\n",
    "plt.xlabel('Threshold')\n",
    "plt.title('F-Measure vs. Threshold')\n",
    "plt.show()"
   ]
  },
  {
   "cell_type": "code",
   "execution_count": 17,
   "metadata": {},
   "outputs": [
    {
     "data": {
      "text/plain": [
       "0.5"
      ]
     },
     "execution_count": 17,
     "metadata": {},
     "output_type": "execute_result"
    }
   ],
   "source": [
    "### threshold\n",
    "lr.getThreshold()"
   ]
  },
  {
   "cell_type": "code",
   "execution_count": 18,
   "metadata": {},
   "outputs": [
    {
     "name": "stdout",
     "output_type": "stream",
     "text": [
      "Best F1 score: 0.8841971533583828\n",
      "Best threshold: 0.6047017922446718\n"
     ]
    }
   ],
   "source": [
    "### Best f1 score to get threshold\n",
    "fMeasure = train_Summary.fMeasureByThreshold\n",
    "maxFMeasure = fMeasure.groupBy().max('F-Measure').select('max(F-Measure)').head()\n",
    "print('Best F1 score:', str(maxFMeasure[0]))\n",
    "bestThreshold = fMeasure.where(fMeasure['F-Measure'] == maxFMeasure['max(F-Measure)'])\\\n",
    ".select('threshold').head()['threshold']\n",
    "print('Best threshold:',bestThreshold )"
   ]
  },
  {
   "cell_type": "code",
   "execution_count": 19,
   "metadata": {},
   "outputs": [
    {
     "data": {
      "text/plain": [
       "0.6047017922446718"
      ]
     },
     "execution_count": 19,
     "metadata": {},
     "output_type": "execute_result"
    }
   ],
   "source": [
    "### set new threshold\n",
    "lr.setThreshold(bestThreshold)\n",
    "lr.getThreshold()"
   ]
  },
  {
   "cell_type": "markdown",
   "metadata": {},
   "source": [
    "### Test on training data"
   ]
  },
  {
   "cell_type": "markdown",
   "metadata": {},
   "source": [
    "With the new threshold implemented in the model the training data was used to make predictions to get a baseline view of how the model is preforming. "
   ]
  },
  {
   "cell_type": "code",
   "execution_count": 20,
   "metadata": {},
   "outputs": [],
   "source": [
    "### Predict using train\n",
    "pred = lrModel.transform(train)"
   ]
  },
  {
   "cell_type": "code",
   "execution_count": 21,
   "metadata": {},
   "outputs": [
    {
     "name": "stdout",
     "output_type": "stream",
     "text": [
      "+-----+----------+--------------------+\n",
      "|label|prediction|         probability|\n",
      "+-----+----------+--------------------+\n",
      "|  1.0|       1.0|[0.15852012758061...|\n",
      "|  1.0|       1.0|[0.19654454281587...|\n",
      "|  0.0|       1.0|[0.28523866587382...|\n",
      "|  1.0|       1.0|[0.17592178645724...|\n",
      "|  1.0|       1.0|[0.18895417481023...|\n",
      "|  1.0|       1.0|[0.16431389991430...|\n",
      "|  1.0|       1.0|[0.21777641333774...|\n",
      "|  1.0|       1.0|[0.17065816919017...|\n",
      "|  1.0|       1.0|[0.16592594339755...|\n",
      "|  1.0|       1.0|[0.14375257663048...|\n",
      "+-----+----------+--------------------+\n",
      "only showing top 10 rows\n",
      "\n"
     ]
    }
   ],
   "source": [
    "pred.select('label', 'prediction', 'probability').show(10)"
   ]
  },
  {
   "cell_type": "markdown",
   "metadata": {},
   "source": [
    "### Evaluate Model"
   ]
  },
  {
   "cell_type": "markdown",
   "metadata": {},
   "source": [
    "To evaluate the model we looked at ROC, accuracy, and f1 score. All three metrics showed that the model is doing pretty well on the training dataset which is expected.  "
   ]
  },
  {
   "cell_type": "code",
   "execution_count": 22,
   "metadata": {},
   "outputs": [],
   "source": [
    "from pyspark.ml.evaluation import BinaryClassificationEvaluator"
   ]
  },
  {
   "cell_type": "code",
   "execution_count": 23,
   "metadata": {},
   "outputs": [
    {
     "name": "stdout",
     "output_type": "stream",
     "text": [
      "Train Area Under ROC 0.8000131871226264\n"
     ]
    }
   ],
   "source": [
    "#### R0C\n",
    "evaluator = BinaryClassificationEvaluator()\n",
    "print('Train Area Under ROC', evaluator.evaluate(pred))"
   ]
  },
  {
   "cell_type": "code",
   "execution_count": 24,
   "metadata": {},
   "outputs": [],
   "source": [
    "from pyspark.ml.evaluation import MulticlassClassificationEvaluator\n",
    "### can get the f1 score, accuracy, precision and recall using MulticlassClassificationEvaluator "
   ]
  },
  {
   "cell_type": "code",
   "execution_count": 25,
   "metadata": {},
   "outputs": [
    {
     "data": {
      "text/plain": [
       "0.8036510828933816"
      ]
     },
     "execution_count": 25,
     "metadata": {},
     "output_type": "execute_result"
    }
   ],
   "source": [
    "#### Accuracy \n",
    "acc = MulticlassClassificationEvaluator(predictionCol='prediction', labelCol='label', metricName='accuracy')\n",
    "acc.evaluate(pred)"
   ]
  },
  {
   "cell_type": "code",
   "execution_count": 26,
   "metadata": {},
   "outputs": [
    {
     "data": {
      "text/plain": [
       "0.7658786743209146"
      ]
     },
     "execution_count": 26,
     "metadata": {},
     "output_type": "execute_result"
    }
   ],
   "source": [
    "#### F1 Score \n",
    "ff = MulticlassClassificationEvaluator(predictionCol='prediction', labelCol='label', metricName='f1')\n",
    "ff.evaluate(pred)"
   ]
  },
  {
   "cell_type": "markdown",
   "metadata": {},
   "source": [
    "### Save model & pipeline "
   ]
  },
  {
   "cell_type": "markdown",
   "metadata": {},
   "source": [
    "The model and pipeline were saved to be used in the validation and test step."
   ]
  },
  {
   "cell_type": "code",
   "execution_count": 27,
   "metadata": {},
   "outputs": [],
   "source": [
    "### save pipeline \n",
    "pipelineFit.write().overwrite().save(\"pipline_train\")"
   ]
  },
  {
   "cell_type": "code",
   "execution_count": 28,
   "metadata": {},
   "outputs": [],
   "source": [
    "### save fitted model \n",
    "lrModel.save('LGmodel')"
   ]
  }
 ],
 "metadata": {
  "kernelspec": {
   "display_name": "Python 3",
   "language": "python",
   "name": "python3"
  },
  "language_info": {
   "codemirror_mode": {
    "name": "ipython",
    "version": 3
   },
   "file_extension": ".py",
   "mimetype": "text/x-python",
   "name": "python",
   "nbconvert_exporter": "python",
   "pygments_lexer": "ipython3",
   "version": "3.7.3"
  }
 },
 "nbformat": 4,
 "nbformat_minor": 2
}
